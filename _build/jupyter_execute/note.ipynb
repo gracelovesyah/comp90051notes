{
 "cells": [
  {
   "cell_type": "code",
   "execution_count": 1,
   "metadata": {},
   "outputs": [],
   "source": [
    "import os\n",
    "\n",
    "def create_md_files(base_path):\n",
    "    for week_num in range(1, 7):  # Looping from week 1 to 6\n",
    "        week_files = [\n",
    "            (f\"week{week_num}.0\", f\"# week{week_num}\"),\n",
    "            (f\"week{week_num}.1\", f\"# Lecture {2*week_num - 1}.\"),\n",
    "            (f\"week{week_num}.2\", f\"# Lecture {2*week_num}.\"),\n",
    "            (f\"week{week_num}.3\", f\"# Additional notes\"),\n",
    "            (f\"worksheet{week_num}note\", f\"#worksheet{week_num}note\"),\n",
    "        ]\n",
    "\n",
    "        for filename, header in week_files:\n",
    "            file_path = os.path.join(base_path, f\"{filename}.md\")\n",
    "            if not os.path.exists(file_path):\n",
    "                with open(file_path, 'w') as f:\n",
    "                    f.write(header + \"\\n\\n\")\n",
    "\n",
    "base_path = \"/Users/graceliu/Downloads/comp90051notes/\"\n",
    "create_md_files(base_path)\n"
   ]
  },
  {
   "cell_type": "code",
   "execution_count": 2,
   "metadata": {},
   "outputs": [
    {
     "ename": "ModuleNotFoundError",
     "evalue": "No module named 'networkx'",
     "output_type": "error",
     "traceback": [
      "\u001b[0;31m---------------------------------------------------------------------------\u001b[0m",
      "\u001b[0;31mModuleNotFoundError\u001b[0m                       Traceback (most recent call last)",
      "Cell \u001b[0;32mIn[2], line 1\u001b[0m\n\u001b[0;32m----> 1\u001b[0m \u001b[38;5;28;01mimport\u001b[39;00m \u001b[38;5;21;01mnetworkx\u001b[39;00m \u001b[38;5;28;01mas\u001b[39;00m \u001b[38;5;21;01mnx\u001b[39;00m\n\u001b[1;32m      2\u001b[0m \u001b[38;5;28;01mimport\u001b[39;00m \u001b[38;5;21;01mmatplotlib\u001b[39;00m\u001b[38;5;21;01m.\u001b[39;00m\u001b[38;5;21;01mpyplot\u001b[39;00m \u001b[38;5;28;01mas\u001b[39;00m \u001b[38;5;21;01mplt\u001b[39;00m\n\u001b[1;32m      4\u001b[0m \u001b[38;5;66;03m# Create a directed graph based on the relationships\u001b[39;00m\n",
      "\u001b[0;31mModuleNotFoundError\u001b[0m: No module named 'networkx'"
     ]
    }
   ],
   "source": [
    "import networkx as nx\n",
    "import matplotlib.pyplot as plt\n",
    "\n",
    "# Create a directed graph based on the relationships\n",
    "G = nx.DiGraph()\n",
    "\n",
    "# Add edges based on the given relationships\n",
    "edges = [(\"a\", \"d\"), (\"d\", \"j\"), (\"j\", \"l\"), (\"a\", \"c\"), (\"a\", \"b\"), \n",
    "         (\"a\", \"e\"), (\"e\", \"i\"), (\"f\", \"a\"), (\"g\", \"h\"), (\"h\", \"e\")]\n",
    "G.add_edges_from(edges)\n",
    "\n",
    "# Remove nodes A and E\n",
    "G.remove_node(\"a\")\n",
    "G.remove_node(\"e\")\n",
    "\n",
    "# Moralize the graph by connecting parents of removed nodes\n",
    "# For A: its only parent is F, so no additional edges are needed.\n",
    "# For E: its parents are H (and A which is already removed). H's only other parent is G and they're already connected.\n",
    "\n",
    "# Convert the directed graph to an undirected graph for moralization\n",
    "G = G.to_undirected()\n",
    "\n",
    "# Draw the moralized graph\n",
    "plt.figure(figsize=(8, 6))\n",
    "pos = nx.spring_layout(G)\n",
    "nx.draw(G, pos, with_labels=True, node_size=2000, node_color=\"lightblue\", font_size=15)\n",
    "plt.title(\"Moralized Graph after removing nodes A and E\")\n",
    "plt.show()\n"
   ]
  }
 ],
 "metadata": {
  "kernelspec": {
   "display_name": "base",
   "language": "python",
   "name": "python3"
  },
  "language_info": {
   "codemirror_mode": {
    "name": "ipython",
    "version": 3
   },
   "file_extension": ".py",
   "mimetype": "text/x-python",
   "name": "python",
   "nbconvert_exporter": "python",
   "pygments_lexer": "ipython3",
   "version": "3.11.0"
  }
 },
 "nbformat": 4,
 "nbformat_minor": 2
}