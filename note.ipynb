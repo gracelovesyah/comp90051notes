{
 "cells": [
  {
   "cell_type": "code",
   "execution_count": 1,
   "metadata": {},
   "outputs": [],
   "source": [
    "import os\n",
    "\n",
    "def create_md_files(base_path):\n",
    "    for week_num in range(1, 7):  # Looping from week 1 to 6\n",
    "        week_files = [\n",
    "            (f\"week{week_num}.0\", f\"# week{week_num}\"),\n",
    "            (f\"week{week_num}.1\", f\"# Lecture {2*week_num - 1}.\"),\n",
    "            (f\"week{week_num}.2\", f\"# Lecture {2*week_num}.\"),\n",
    "            (f\"week{week_num}.3\", f\"# Additional notes\"),\n",
    "            (f\"worksheet{week_num}note\", f\"#worksheet{week_num}note\"),\n",
    "        ]\n",
    "\n",
    "        for filename, header in week_files:\n",
    "            file_path = os.path.join(base_path, f\"{filename}.md\")\n",
    "            if not os.path.exists(file_path):\n",
    "                with open(file_path, 'w') as f:\n",
    "                    f.write(header + \"\\n\\n\")\n",
    "\n",
    "base_path = \"/Users/graceliu/Downloads/comp90051notes/\"\n",
    "create_md_files(base_path)\n"
   ]
  }
 ],
 "metadata": {
  "kernelspec": {
   "display_name": "base",
   "language": "python",
   "name": "python3"
  },
  "language_info": {
   "codemirror_mode": {
    "name": "ipython",
    "version": 3
   },
   "file_extension": ".py",
   "mimetype": "text/x-python",
   "name": "python",
   "nbconvert_exporter": "python",
   "pygments_lexer": "ipython3",
   "version": "3.8.5"
  },
  "orig_nbformat": 4
 },
 "nbformat": 4,
 "nbformat_minor": 2
}
